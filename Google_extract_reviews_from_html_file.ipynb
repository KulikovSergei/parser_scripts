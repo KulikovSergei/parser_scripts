{
  "nbformat": 4,
  "nbformat_minor": 0,
  "metadata": {
    "colab": {
      "provenance": []
    },
    "kernelspec": {
      "name": "python3",
      "display_name": "Python 3"
    },
    "language_info": {
      "name": "python"
    }
  },
  "cells": [
    {
      "cell_type": "markdown",
      "source": [
        "С помощью скрипта можно относительно быстро получить список отзывов к определенному объекту на Google.Карты.\n",
        "\n",
        "Для начала работы нам необходимо подгрузить модули для работы с сохраненной страницей в формате html."
      ],
      "metadata": {
        "id": "ALHlbWQFpNAr"
      }
    },
    {
      "cell_type": "code",
      "execution_count": null,
      "metadata": {
        "id": "sB86qu9co2TV"
      },
      "outputs": [],
      "source": [
        "import numpy as np\n",
        "import pandas as pd\n",
        "from bs4 import BeautifulSoup\n",
        "import re"
      ]
    },
    {
      "cell_type": "markdown",
      "source": [
        "Далее нам нужно загрузить наш файл с сохраненной страницей в формате html, изменив путь в строке. Для этого в Colab найдите слева иконку папки и найдите кнопку загрузки файла (иконка под словом \"Файлы\"). Загрузив страницу, нажмите по загруженному файлу правой кнопкой мыши и выберите \"Скопировать путь\". В строке с кодом внизу замените запись на ту, что скопировали, предварительно удалив содержимое внутри скобок в кавычках."
      ],
      "metadata": {
        "id": "pKOgxAcgpTJU"
      }
    },
    {
      "cell_type": "code",
      "source": [
        "with open('/content/Музей Н. А. Островского – Google Карты.html') as f:\n",
        "    content = f.read()\n",
        "\n",
        "soup = BeautifulSoup(content, features='html.parser')"
      ],
      "metadata": {
        "id": "nGZaMi9upXJg"
      },
      "execution_count": null,
      "outputs": []
    },
    {
      "cell_type": "markdown",
      "source": [
        "Функция для извлечения комментариев для Google.Карт"
      ],
      "metadata": {
        "id": "7L5k0-afpnXI"
      }
    },
    {
      "cell_type": "code",
      "source": [
        "def get_reviews_from_GoogleMaps(bs4_soup = soup):\n",
        "    reviews = []\n",
        "    authors = []\n",
        "    authors_status = []\n",
        "    authors_ratings = []\n",
        "    publication_date = []\n",
        "\n",
        "    for result in soup.findAll('div', class_=\"jftiEf fontBodyMedium\"):\n",
        "        try:\n",
        "            reviews.append(result.find('span', class_='wiI7pd').get_text())\n",
        "        except:\n",
        "            reviews.append(np.NaN)\n",
        "\n",
        "        try:\n",
        "            authors.append(result.find('div', class_='d4r55').find('span').\\\n",
        "                           get_text())\n",
        "        except:\n",
        "            authors.append(np.NaN)\n",
        "            \n",
        "        try:\n",
        "            authors_status.append(result.find('div', class_='RfnDt').\\\n",
        "                                  find('span').get_text())\n",
        "        except:\n",
        "            authors_status.append(np.NaN)\n",
        "        \n",
        "        try:\n",
        "            authors_ratings.append(result.\\\n",
        "                                   find('span', class_='kvMYJc')['aria-label'])\n",
        "        except:\n",
        "            authors_ratings.append(None)\n",
        "        \n",
        "        try:\n",
        "            publication_date.append(result.find('span', class_='rsqaWe').get_text())\n",
        "        except:\n",
        "            publication_date.append(None)\n",
        "\n",
        "    authors_ratings_int = [int(re.findall(r'\\d+', n)[0]) for n in authors_ratings]\n",
        "\n",
        "    data = pd.DataFrame.from_dict({'author': authors,\\\n",
        "                               'status': authors_status,\\\n",
        "                               'rating': authors_ratings_int,\\\n",
        "                               'publication_date': publication_date,\\\n",
        "                               'review': reviews})\n",
        "\n",
        "    return data\n"
      ],
      "metadata": {
        "id": "Cw6RfbA6ppHc"
      },
      "execution_count": null,
      "outputs": []
    },
    {
      "cell_type": "markdown",
      "source": [
        "Переменная с обработанным функцией результатом парсинга страницы."
      ],
      "metadata": {
        "id": "Q-hi5zbcevbF"
      }
    },
    {
      "cell_type": "code",
      "source": [
        "data = get_reviews_from_GoogleMaps(bs4_soup = soup)"
      ],
      "metadata": {
        "id": "rofL_jzzvLP1"
      },
      "execution_count": null,
      "outputs": []
    },
    {
      "cell_type": "code",
      "source": [
        "data.head(10) # вывод первых десяти строк таблицы"
      ],
      "metadata": {
        "id": "6KJdpjwbvPOL"
      },
      "execution_count": null,
      "outputs": []
    },
    {
      "cell_type": "markdown",
      "source": [
        "Скрипт сохраняет данные в формате .xlsx в раздел \"Файлы\", откуда затем файлы можно скачать к себе на рабочий стол."
      ],
      "metadata": {
        "id": "kHn-RuJEe1cf"
      }
    },
    {
      "cell_type": "code",
      "source": [
        "data.to_excel('result.xlsx')"
      ],
      "metadata": {
        "id": "SUk2GWBSv35H"
      },
      "execution_count": null,
      "outputs": []
    }
  ]
}