{
  "nbformat": 4,
  "nbformat_minor": 0,
  "metadata": {
    "colab": {
      "provenance": []
    },
    "kernelspec": {
      "name": "python3",
      "display_name": "Python 3"
    },
    "language_info": {
      "name": "python"
    }
  },
  "cells": [
    {
      "cell_type": "markdown",
      "source": [
        "С помощью скрипта можно относительно быстро получить список отзывов к определенному объекту на Яндекс.Карты.\n",
        "\n",
        "Для начала работы нам необходимо подгрузить модули для работы с сохраненной страницей в формате html.\n"
      ],
      "metadata": {
        "id": "jDiAFpz_-Oq6"
      }
    },
    {
      "cell_type": "code",
      "execution_count": 1,
      "metadata": {
        "id": "G4qmJ00f4QWk"
      },
      "outputs": [],
      "source": [
        "import numpy as np\n",
        "import pandas as pd\n",
        "from bs4 import BeautifulSoup"
      ]
    },
    {
      "cell_type": "markdown",
      "source": [
        "Далее нам нужно загрузить наш файл с сохраненной страницей в формате html, изменив путь в строке. Для этого в Colab найдите слева иконку папки и найдите кнопку загрузки файла (иконка под словом \"Файлы\"). Загрузив страницу, нажмите по загруженному файлу правой кнопкой мыши и выберите \"Скопировать путь\". В строке с кодом внизу замените запись на ту, что скопировали, предварительно удалив содержимое внутри скобок в кавычках."
      ],
      "metadata": {
        "id": "V0kyfa2S4t00"
      }
    },
    {
      "cell_type": "code",
      "source": [
        "with open('/content/Зимний театр — Яндекс Карты.html') as f:\n",
        "    content = f.read()"
      ],
      "metadata": {
        "id": "Xz9Xzg4U4mPW"
      },
      "execution_count": null,
      "outputs": []
    },
    {
      "cell_type": "markdown",
      "source": [
        "Включаем в работу модуль для обработки html-страниц BeautifulSoup."
      ],
      "metadata": {
        "id": "BwiZ6edv_oqt"
      }
    },
    {
      "cell_type": "code",
      "source": [
        "soup = BeautifulSoup(content, features='html.parser')"
      ],
      "metadata": {
        "id": "1KgoOxWJADT_"
      },
      "execution_count": null,
      "outputs": []
    },
    {
      "cell_type": "markdown",
      "source": [
        "Функция для извлечения комментариев для Яндекс.Карт"
      ],
      "metadata": {
        "id": "suWixrjID37A"
      }
    },
    {
      "cell_type": "code",
      "source": [
        "def get_reviews_from_YandexMaps(bs4_soup = soup):\n",
        "\n",
        "    reviews = []\n",
        "    authors = []\n",
        "    authors_status = []\n",
        "    authors_ratings = []\n",
        "    publication_date = []\n",
        "\n",
        "    for result in soup.findAll('div',\\\n",
        "                               class_='business-reviews-card-view__review'):\n",
        "        try:\n",
        "            reviews.append(result.find('span',\\\n",
        "                                       class_='business-review-view__body-text').\\\n",
        "                           get_text())\n",
        "        except:\n",
        "            reviews.append(np.NaN)\n",
        "\n",
        "        try:\n",
        "            authors.append(result.find('div',\\\n",
        "                                       class_='business-review-view__author').\\\n",
        "                           find('span', attrs={'itemprop': 'name'}).get_text())\n",
        "        except:\n",
        "            authors.append(np.NaN)\n",
        "            \n",
        "        try:\n",
        "            authors_status.append(result.find('div',\\\n",
        "                                              class_='business-review-view__author').\\\n",
        "                                  find('div', class_='business-review-view__author-profession').\\\n",
        "                                  get_text())\n",
        "        except:\n",
        "            authors_status.append(np.NaN)\n",
        "        \n",
        "        try:\n",
        "            authors_ratings.append(result.find('div', class_='business-review-view__rating').\\\n",
        "                                       find('span', attrs={'itemprop': 'reviewRating'}).\\\n",
        "                                       find('meta', attrs={'itemprop': 'ratingValue'})['content'])\n",
        "        except:\n",
        "            authors_ratings.append(np.NaN)\n",
        "        \n",
        "        try:\n",
        "            publication_date.append(result.find('span', class_='business-review-view__date').\\\n",
        "                                    find('meta')['content'])\n",
        "        except:\n",
        "            publication_date.append(0)\n",
        "    \n",
        "    authors_ratings_int = [float(n) for n in authors_ratings]\n",
        "\n",
        "    data = pd.DataFrame.from_dict({'author': authors,\\\n",
        "                               'status': authors_status,\\\n",
        "                               'rating': authors_ratings_int,\\\n",
        "                               'publication_date': publication_date,\\\n",
        "                               'review': reviews})\n",
        "    data['publication_date'] = pd.to_datetime(data['publication_date']).dt.date\n",
        "\n",
        "    return data\n"
      ],
      "metadata": {
        "id": "HdLAW2ozD4Vs"
      },
      "execution_count": null,
      "outputs": []
    },
    {
      "cell_type": "markdown",
      "source": [
        "Переменная с обработанным функцией результатом парсинга страницы."
      ],
      "metadata": {
        "id": "8Yu7p5dqcv2s"
      }
    },
    {
      "cell_type": "code",
      "source": [
        "data = get_reviews_from_YandexMaps(bs4_soup=soup)"
      ],
      "metadata": {
        "id": "-V1Oygy4cEhF"
      },
      "execution_count": null,
      "outputs": []
    },
    {
      "cell_type": "code",
      "source": [
        "#data.head(5) # уберите \"#\" в начале строки, чтобы вывести первые пять строк полученной таблицы."
      ],
      "metadata": {
        "id": "NhME22UVcOeR"
      },
      "execution_count": null,
      "outputs": []
    },
    {
      "cell_type": "markdown",
      "source": [
        "Скрипт сохраняет данные в формате .xlsx в раздел \"Файлы\", откуда затем файлы можно скачать к себе на рабочий стол."
      ],
      "metadata": {
        "id": "pojjbRQ9c6-s"
      }
    },
    {
      "cell_type": "code",
      "source": [
        "data.to_excel('result.xlsx')"
      ],
      "metadata": {
        "id": "VrFQXN2xEtEY"
      },
      "execution_count": null,
      "outputs": []
    }
  ]
}